{
  "nbformat": 4,
  "nbformat_minor": 0,
  "metadata": {
    "colab": {
      "provenance": []
    },
    "kernelspec": {
      "name": "python3",
      "display_name": "Python 3"
    },
    "language_info": {
      "name": "python"
    }
  },
  "cells": [
    {
      "cell_type": "markdown",
      "source": [
        "*Part A*"
      ],
      "metadata": {
        "id": "9ac7Q_3vpAuE"
      }
    },
    {
      "cell_type": "code",
      "execution_count": null,
      "metadata": {
        "colab": {
          "base_uri": "https://localhost:8080/"
        },
        "id": "xXFvsabOdY2p",
        "outputId": "6fc849a6-29d5-43cd-aef8-29b2b02b97ca"
      },
      "outputs": [
        {
          "output_type": "stream",
          "name": "stdout",
          "text": [
            "Collecting assemblyai\n",
            "  Downloading assemblyai-0.20.0-py3-none-any.whl (63 kB)\n",
            "\u001b[2K     \u001b[90m━━━━━━━━━━━━━━━━━━━━━━━━━━━━━━━━━━━━━━━━\u001b[0m \u001b[32m63.3/63.3 kB\u001b[0m \u001b[31m999.3 kB/s\u001b[0m eta \u001b[36m0:00:00\u001b[0m\n",
            "\u001b[?25hCollecting httpx>=0.19.0 (from assemblyai)\n",
            "  Downloading httpx-0.25.2-py3-none-any.whl (74 kB)\n",
            "\u001b[2K     \u001b[90m━━━━━━━━━━━━━━━━━━━━━━━━━━━━━━━━━━━━━━━━\u001b[0m \u001b[32m75.0/75.0 kB\u001b[0m \u001b[31m2.1 MB/s\u001b[0m eta \u001b[36m0:00:00\u001b[0m\n",
            "\u001b[?25hRequirement already satisfied: pydantic!=1.10.7,>=1.7.0 in /usr/local/lib/python3.10/dist-packages (from assemblyai) (1.10.13)\n",
            "Requirement already satisfied: typing-extensions>=3.7 in /usr/local/lib/python3.10/dist-packages (from assemblyai) (4.5.0)\n",
            "Collecting websockets>=11.0 (from assemblyai)\n",
            "  Downloading websockets-12.0-cp310-cp310-manylinux_2_5_x86_64.manylinux1_x86_64.manylinux_2_17_x86_64.manylinux2014_x86_64.whl (130 kB)\n",
            "\u001b[2K     \u001b[90m━━━━━━━━━━━━━━━━━━━━━━━━━━━━━━━━━━━━━━━━\u001b[0m \u001b[32m130.2/130.2 kB\u001b[0m \u001b[31m7.3 MB/s\u001b[0m eta \u001b[36m0:00:00\u001b[0m\n",
            "\u001b[?25hRequirement already satisfied: anyio in /usr/local/lib/python3.10/dist-packages (from httpx>=0.19.0->assemblyai) (3.7.1)\n",
            "Requirement already satisfied: certifi in /usr/local/lib/python3.10/dist-packages (from httpx>=0.19.0->assemblyai) (2023.11.17)\n",
            "Collecting httpcore==1.* (from httpx>=0.19.0->assemblyai)\n",
            "  Downloading httpcore-1.0.2-py3-none-any.whl (76 kB)\n",
            "\u001b[2K     \u001b[90m━━━━━━━━━━━━━━━━━━━━━━━━━━━━━━━━━━━━━━━━\u001b[0m \u001b[32m76.9/76.9 kB\u001b[0m \u001b[31m7.1 MB/s\u001b[0m eta \u001b[36m0:00:00\u001b[0m\n",
            "\u001b[?25hRequirement already satisfied: idna in /usr/local/lib/python3.10/dist-packages (from httpx>=0.19.0->assemblyai) (3.6)\n",
            "Requirement already satisfied: sniffio in /usr/local/lib/python3.10/dist-packages (from httpx>=0.19.0->assemblyai) (1.3.0)\n",
            "Collecting h11<0.15,>=0.13 (from httpcore==1.*->httpx>=0.19.0->assemblyai)\n",
            "  Downloading h11-0.14.0-py3-none-any.whl (58 kB)\n",
            "\u001b[2K     \u001b[90m━━━━━━━━━━━━━━━━━━━━━━━━━━━━━━━━━━━━━━━━\u001b[0m \u001b[32m58.3/58.3 kB\u001b[0m \u001b[31m6.3 MB/s\u001b[0m eta \u001b[36m0:00:00\u001b[0m\n",
            "\u001b[?25hRequirement already satisfied: exceptiongroup in /usr/local/lib/python3.10/dist-packages (from anyio->httpx>=0.19.0->assemblyai) (1.2.0)\n",
            "Installing collected packages: websockets, h11, httpcore, httpx, assemblyai\n",
            "Successfully installed assemblyai-0.20.0 h11-0.14.0 httpcore-1.0.2 httpx-0.25.2 websockets-12.0\n",
            "I'm David Curley at the Smithsonian Aaron Space Museum, where we are marking 50 years since man landed and walked on the moon in a lander just like this one. We are going to show you some of the actual ABC News coverage from 50 years ago during that eight day mission of this remarkable achievement. Apollo Eleven's lander, the Eagle, would be the first manned craft to land on the moon. For training, NASA came with an unusual contraption. Neil Armstrong actually had to eject from it once, and then he had a couple of successful flights. ABC News Anchor at the time, 50 years ago, frank Reynolds with a look at that unusual trainer. Apollo Eleven commander Neil Armstrong is at the controls of a lunar landing training vehicle. Testing the reaction control jets, these thrusters stabilize the Lem during landing and takeoff. The LLTV is designed to simulate the behavior of the Lem as it lands in the moon's gravity. Lunar gravity is one 6th that of the Earth's. Neil Armstrong flew one of these vehicles on May 6, 1968, and that flight was nearly his last. Later reports by a NASA investigating team said the crash, which we'll see soon, was caused by a loss of fuel pressure, compounded by a warning light that failed to work. Armstrong's coolness under pressure saved himself and possibly months of delay for the Apollo program. Later that same year, 1968, another test pilot, Joseph Allegrandi, also escaped from an LLTV just before it crashed. The training vehicle then underwent several design modifications and improvements. Engineers had to increase the vehicle's rocket power to help stabilize the craft. That made the LLTV less of a moon gravity simulator, but it improved pilot safety. On June 16, 1969, neil Armstrong flew the vehicle, sometimes called the Flying Bedstead, to several perfect landings. Question was, how does the machine fly? And the answer is that we're very pleased with the way it flies. It's a significant improvement over the LLRV, which we were flying here a year ago. And I think it does an excellent job of actually capturing the handling characteristics of the lunar module in a landing maneuver. It's really a great deal different than any other kind of aircraft that I've ever flown. The the simulation of lunar gravity has some aspects that make this type of flight sufficiently different from anything else we've ever done to make this vehicle very worthwhile. And I'm very pleased that I had the opportunity to get some flights in it here. Just before the Apollo Eleven flight.\n"
          ]
        }
      ],
      "source": [
        "\n",
        "!pip install assemblyai\n",
        "\n",
        "import assemblyai as aai\n",
        "\n",
        "aai.settings.api_key = \"d05d328bb3b644f2a7da25ce00c005b5\"\n",
        "transcriber = aai.Transcriber()\n",
        "\n",
        "transcript = transcriber.transcribe(\"https://storage.googleapis.com/aai-web-samples/news.mp4\")\n",
        "# transcript = transcriber.transcribe(\"./my-local-audio-file.wav\")\n",
        "\n",
        "print(transcript.text)"
      ]
    },
    {
      "cell_type": "code",
      "source": [
        "# Start by making sure the `assemblyai` package is installed.\n",
        "# If not, you can install it by running the following command:\n",
        "# pip install -U assemblyai\n",
        "#\n",
        "# Note: Some macOS users may need to use `pip3` instead of `pip`.\n",
        "\n",
        "\n",
        "# Replace with your API token\n",
        "aai.settings.api_key = f\"d05d328bb3b644f2a7da25ce00c005b5\"\n",
        "\n",
        "# URL of the file to transcribe\n",
        "FILE_URL = \"https://github.com/AssemblyAI-Examples/audio-examples/raw/main/20230607_me_canadian_wildfires.mp3\"\n",
        "\n",
        "# You can also transcribe a local file by passing in a file path\n",
        "# FILE_URL = './path/to/file.mp3'\n",
        "\n",
        "config = aai.TranscriptionConfig(speaker_labels=True)\n",
        "\n",
        "transcriber = aai.Transcriber()\n",
        "transcript = transcriber.transcribe(\n",
        "  FILE_URL,\n",
        "  config=config\n",
        ")\n",
        "\n",
        "for utterance in transcript.utterances:\n",
        "  print(f\"Speaker {utterance.speaker}: {utterance.text}\")\n"
      ],
      "metadata": {
        "colab": {
          "base_uri": "https://localhost:8080/"
        },
        "id": "hG8jC6HweCmx",
        "outputId": "4cd82cad-558e-4525-a618-709e7eefa56b"
      },
      "execution_count": null,
      "outputs": [
        {
          "output_type": "stream",
          "name": "stdout",
          "text": [
            "Speaker A: Smoke from hundreds of wildfires in Canada is triggering air quality alerts throughout the US. Skylines from Maine to Maryland to Minnesota are gray and smoggy. And in some places, the air quality warnings include the warning to stay inside. We wanted to better understand what's happening here and why, so we called Peter DiCarlo, an associate professor in the Department of Environmental Health and Engineering at Johns Hopkins University. Good morning, professor.\n",
            "Speaker B: Good morning.\n",
            "Speaker A: So what is it about the conditions right now that have caused this round of wildfires to affect so many people so far away?\n",
            "Speaker B: Well, there's a couple of things. The season has been pretty dry already, and then the fact that we're getting hit in the US. Is because there's a couple of weather systems that are essentially channeling the smoke from those Canadian wildfires through Pennsylvania into the Mid Atlantic and the Northeast and kind of just dropping the smoke there.\n",
            "Speaker A: So what is it in this haze that makes it harmful? And I'm assuming it is.\n",
            "Speaker B: Is it is the levels outside right now in Baltimore are considered unhealthy. And most of that is due to what's called particulate matter, which are tiny particles, microscopic smaller than the width of your hair, that can get into your lungs and impact your respiratory system, your cardiovascular system, and even your neurological your brain.\n",
            "Speaker A: What makes this particularly harmful? Is it the volume of particulate? Is it something in particular? What is it exactly? Can you just drill down on that a little bit more?\n",
            "Speaker B: Yeah. So the concentration of particulate matter I was looking at some of the monitors that we have was reaching levels of what are, in science speak, 150 micrograms per meter cubed, which is more than ten times what the annual average should be, and about four times higher than what you're supposed to have on a 24 hours average. And so the concentrations of these particles in the air are just much, much higher than we typically see. And exposure to those high levels can lead to a host of health problems.\n",
            "Speaker A: And who is most vulnerable? I noticed that in New York City, for example, they're canceling outdoor activities, and so here it is in the early days of summer, and they have to keep all the kids inside. So who tends to be vulnerable in a situation like this?\n",
            "Speaker B: It's the youngest. So children, obviously, whose bodies are still developing. The elderly who know their bodies are more in decline, and they're more susceptible to the health impacts of breathing, the poor air quality. And then people who have preexisting health conditions, people with respiratory conditions or heart conditions can be triggered by high levels of air pollution.\n",
            "Speaker A: Could this get worse?\n",
            "Speaker B: That's a good in some areas, it's much worse than others. And it just depends on kind of where the smoke is concentrated. I think New York has some of the higher concentrations right now, but that's going to change as that air moves away from the New York area. But over the course of the next few days, we will see different areas being hit at different times with the highest concentrations.\n",
            "Speaker A: I was going to ask you, more.\n",
            "Speaker B: Fires start burning, I don't expect the concentrations to go up too much higher.\n",
            "Speaker A: I was going to ask you and you started to answer this, but how much longer could this last? Or forgive me if I'm asking you to speculate, but what do you think?\n",
            "Speaker B: Well, I think the fires are going to burn for a little bit longer, but the key for us in the US. Is the weather system changing. And so right now, it's kind of the weather systems that are pulling that air into our mid Atlantic and Northeast region. As those weather systems change and shift, we'll see that smoke going elsewhere and not impact us in this region as much. And so I think that's going to be the defining factor. And I think the next couple of days we're going to see a shift in that weather pattern and start to push the smoke away from where we are.\n",
            "Speaker A: And finally, with the impacts of climate change, we are seeing more wildfires. Will we be seeing more of these kinds of wide ranging air quality consequences or circumstances?\n",
            "Speaker B: I mean, that is one of the predictions for climate change. Looking into the future, the fire season is starting earlier and lasting longer and we're seeing more frequent fires. So, yeah, this is probably something that we'll be seeing more frequently. This tends to be much more of an issue in the Western US. So the Eastern US getting hit right now is a little bit new. But yeah, I think with climate change moving forward, this is something that is going to happen more frequently.\n",
            "Speaker A: That's Peter DiCarlo, associate professor in the Department of Environmental Health and Engineering at Johns Hopkins University. Sergeant Carlo, thanks so much for joining us and sharing this expertise with us.\n",
            "Speaker B: Thank you for having me.\n"
          ]
        }
      ]
    },
    {
      "cell_type": "code",
      "source": [
        "# Start by making sure the `assemblyai` package is installed.\n",
        "# If not, you can install it by running the following command:\n",
        "# pip install -U assemblyai\n",
        "#\n",
        "# Note: Some macOS users may need to use `pip3` instead of `pip`.\n",
        "\n",
        "\n",
        "# Replace with your API token\n",
        "aai.settings.api_key = f\"d05d328bb3b644f2a7da25ce00c005b5\"\n",
        "\n",
        "# URL of the file to transcribe\n",
        "FILE_URL = \"https://github.com/AssemblyAI-Examples/audio-examples/raw/main/20230607_me_canadian_wildfires.mp3\"\n",
        "\n",
        "# You can also transcribe a local file by passing in a file path\n",
        "# FILE_URL = './path/to/file.mp3'\n",
        "\n",
        "config = aai.TranscriptionConfig(auto_highlights=True)\n",
        "\n",
        "transcriber = aai.Transcriber()\n",
        "transcript = transcriber.transcribe(\n",
        "  FILE_URL,\n",
        "  config=config\n",
        ")\n",
        "\n",
        "for result in transcript.auto_highlights.results:\n",
        "  print(f\"Highlight: {result.text}, Count: {result.count}, Rank: {result.rank}\")\n"
      ],
      "metadata": {
        "colab": {
          "base_uri": "https://localhost:8080/"
        },
        "id": "zMtlzPjPeWDK",
        "outputId": "0dbdb91a-5a97-4870-aa9a-cbfba37483a8"
      },
      "execution_count": null,
      "outputs": [
        {
          "output_type": "stream",
          "name": "stdout",
          "text": [
            "Highlight: air quality alerts, Count: 1, Rank: 0.08\n",
            "Highlight: wide ranging air quality consequences, Count: 1, Rank: 0.08\n",
            "Highlight: more fires, Count: 1, Rank: 0.07\n",
            "Highlight: more wildfires, Count: 1, Rank: 0.07\n",
            "Highlight: air pollution, Count: 1, Rank: 0.07\n",
            "Highlight: weather systems, Count: 3, Rank: 0.07\n",
            "Highlight: high levels, Count: 2, Rank: 0.06\n",
            "Highlight: health conditions, Count: 1, Rank: 0.06\n",
            "Highlight: New York City, Count: 1, Rank: 0.06\n",
            "Highlight: respiratory conditions, Count: 1, Rank: 0.05\n",
            "Highlight: New York, Count: 3, Rank: 0.05\n",
            "Highlight: climate change, Count: 3, Rank: 0.05\n",
            "Highlight: heart conditions, Count: 1, Rank: 0.05\n",
            "Highlight: Smoke, Count: 6, Rank: 0.05\n",
            "Highlight: air quality warnings, Count: 1, Rank: 0.05\n"
          ]
        }
      ]
    },
    {
      "cell_type": "code",
      "source": [
        "\n",
        "aai.settings.api_key = \"d05d328bb3b644f2a7da25ce00c005b5\"\n",
        "\n",
        "audio_url = \"https://github.com/AssemblyAI-Examples/audio-examples/raw/main/20230607_me_canadian_wildfires.mp3\"\n",
        "\n",
        "config = aai.TranscriptionConfig(iab_categories=True)\n",
        "\n",
        "transcript = aai.Transcriber().transcribe(audio_url, config)\n",
        "\n",
        "# Get the parts of the transcript that were tagged with topics\n",
        "for result in transcript.iab_categories.results:\n",
        "    print(result.text)\n",
        "    print(f\"Timestamp: {result.timestamp.start} - {result.timestamp.end}\")\n",
        "    for label in result.labels:\n",
        "        print(f\"{label.label} ({label.relevance})\")\n",
        "\n",
        "# Get a summary of all topics in the transcript\n",
        "for topic, relevance in transcript.iab_categories.summary.items():\n",
        "    print(f\"Audio is {relevance * 100}% relevant to {topic}\")"
      ],
      "metadata": {
        "colab": {
          "base_uri": "https://localhost:8080/"
        },
        "id": "-chseLgVere2",
        "outputId": "7971b4b5-1396-438a-86d3-76b0a73f9859"
      },
      "execution_count": null,
      "outputs": [
        {
          "output_type": "stream",
          "name": "stdout",
          "text": [
            "Smoke from hundreds of wildfires in Canada is triggering air quality alerts throughout the US. Skylines from Maine to Maryland to Minnesota are gray and smoggy. And in some places, the air quality warnings include the warning to stay inside. We wanted to better understand what's happening here and why, so we called Peter DiCarlo, an associate professor in the Department of Environmental Health and Engineering at Johns Hopkins University. Good morning, professor. Good morning.\n",
            "Timestamp: 250 - 28920\n",
            "Home&Garden>IndoorEnvironmentalQuality (0.9881861209869385)\n",
            "NewsAndPolitics>Weather (0.5561717748641968)\n",
            "MedicalHealth>DiseasesAndConditions>LungAndRespiratoryHealth (0.00426860898733139)\n",
            "NewsAndPolitics>Disasters (0.0034602025989443064)\n",
            "BusinessAndFinance>Business>GreenSolutions (0.0025904506910592318)\n",
            "MedicalHealth>DiseasesAndConditions>Cancer (0.0015328084118664265)\n",
            "Science>Environment (0.001438859268091619)\n",
            "Travel>TravelLocations>PolarTravel (0.0013438508613035083)\n",
            "MedicalHealth>DiseasesAndConditions>ColdAndFlu (0.0010323362657800317)\n",
            "BusinessAndFinance>Industries>PowerAndEnergyIndustry (0.0007664082222618163)\n",
            "So what is it about the conditions right now that have caused this round of wildfires to affect so many people so far away? Well, there's a couple of things. The season has been pretty dry already, and then the fact that we're getting hit in the US. Is because there's a couple of weather systems that are essentially channeling the smoke from those Canadian wildfires through Pennsylvania into the Mid Atlantic and the Northeast and kind of just dropping the smoke there.\n",
            "Timestamp: 29290 - 56190\n",
            "NewsAndPolitics>Weather (0.9627073407173157)\n",
            "NewsAndPolitics>Disasters (0.15039107203483582)\n",
            "Travel>TravelLocations>PolarTravel (0.007564933970570564)\n",
            "Home&Garden>IndoorEnvironmentalQuality (0.0006400478887371719)\n",
            "MedicalHealth>DiseasesAndConditions>ColdAndFlu (0.0006173826986923814)\n",
            "Science>Environment (0.0004635184013750404)\n",
            "Sports>OlympicSports>WinterOlympicSports (0.0003331942716613412)\n",
            "PopCulture>CelebrityScandal (0.0003181484353262931)\n",
            "Sports>CollegeSports>CollegeBaseball (0.0002656443393789232)\n",
            "BusinessAndFinance>Industries>PowerAndEnergyIndustry (0.00023186586622614413)\n",
            "So what is it in this haze that makes it harmful? And I'm assuming it is is it is the levels outside right now in Baltimore are considered unhealthy. And most of that is due to what's called particulate matter, which are tiny particles, microscopic smaller than the width of your hair, that can get into your lungs and impact your respiratory system, your cardiovascular system, and even your neurological your brain. What makes this particularly harmful? Is it the volume of particulate?\n",
            "Timestamp: 56340 - 88034\n",
            "Home&Garden>IndoorEnvironmentalQuality (0.9939616322517395)\n",
            "MedicalHealth>DiseasesAndConditions>LungAndRespiratoryHealth (0.07478490471839905)\n",
            "NewsAndPolitics>Weather (0.002748325001448393)\n",
            "MedicalHealth>DiseasesAndConditions>ColdAndFlu (0.0011358335614204407)\n",
            "MedicalHealth>DiseasesAndConditions>Allergies (0.0010438687168061733)\n",
            "MedicalHealth>DiseasesAndConditions>Injuries (0.0008186661289073527)\n",
            "HealthyLiving (0.0004740820440929383)\n",
            "HealthyLiving>Wellness>SmokingCessation (0.0003752790216822177)\n",
            "Technology&Computing>Computing>ComputerNetworking (0.0003403778828214854)\n",
            "RealEstate>OfficeProperty (0.0002720552438404411)\n",
            "Is it something in particular? What is it exactly? Can you just drill down on that a little bit more? Yeah. So the concentration of particulate matter I was looking at some of the monitors that we have was reaching levels of what are, in science speak, 150 micrograms per meter cubed, which is more than ten times what the annual average should be, and about four times higher than what you're supposed to have on a 24 hours average.\n",
            "Timestamp: 88082 - 113226\n",
            "Home&Garden>IndoorEnvironmentalQuality (0.9866899251937866)\n",
            "MedicalHealth>DiseasesAndConditions>LungAndRespiratoryHealth (0.001041606767103076)\n",
            "MedicalHealth>DiseasesAndConditions>ColdAndFlu (0.0005042928969487548)\n",
            "NewsAndPolitics>Weather (0.00034752103965729475)\n",
            "MedicalHealth>DiseasesAndConditions>HeartAndCardiovascularDiseases (0.0003081634931731969)\n",
            "HealthyLiving (0.0002766923571471125)\n",
            "Home&Garden>Remodeling&Construction (0.0002748183615040034)\n",
            "MedicalHealth>DiseasesAndConditions>Allergies (0.00026518022059462965)\n",
            "BusinessAndFinance>Business>ConsumerIssues>Recalls (0.0002327713737031445)\n",
            "Style&Fashion>PersonalCare>DeodorantAndAntiperspirant (0.00019238665117882192)\n",
            "And so the concentrations of these particles in the air are just much, much higher than we typically see. And exposure to those high levels can lead to a host of health problems. And who is most vulnerable? I noticed that in New York City, for example, they're canceling outdoor activities, and so here it is in the early days of summer, and they have to keep all the kids inside. So who tends to be vulnerable in a situation like this? It's the youngest.\n",
            "Timestamp: 113338 - 138722\n",
            "Home&Garden>IndoorEnvironmentalQuality (0.9982544779777527)\n",
            "NewsAndPolitics>Weather (0.06440524011850357)\n",
            "HealthyLiving (0.024489635601639748)\n",
            "MedicalHealth>DiseasesAndConditions>LungAndRespiratoryHealth (0.005052974447607994)\n",
            "MedicalHealth>DiseasesAndConditions>ColdAndFlu (0.0036792114842683077)\n",
            "Travel>TravelLocations>PolarTravel (0.0021523323375731707)\n",
            "MedicalHealth>DiseasesAndConditions>MentalHealth (0.001485097105614841)\n",
            "MedicalHealth>DiseasesAndConditions>Allergies (0.0012868066551163793)\n",
            "MedicalHealth>DiseasesAndConditions>Injuries (0.0011628445936366916)\n",
            "NewsAndPolitics>Disasters (0.0011403620010241866)\n",
            "So children, obviously, whose bodies are still developing. The elderly who know their bodies are more in decline, and they're more susceptible to the health impacts of breathing, the poor air quality. And then people who have preexisting health conditions, people with respiratory conditions or heart conditions can be triggered by high levels of air pollution. Could this get worse? That's a good in some areas, it's much worse than others. And it just depends on kind of where the smoke is concentrated.\n",
            "Timestamp: 138786 - 170370\n",
            "Home&Garden>IndoorEnvironmentalQuality (0.9996774196624756)\n",
            "MedicalHealth>DiseasesAndConditions>LungAndRespiratoryHealth (0.45328837633132935)\n",
            "HealthyLiving (0.0267789289355278)\n",
            "MedicalHealth>DiseasesAndConditions>HeartAndCardiovascularDiseases (0.009919208474457264)\n",
            "HealthyLiving>Wellness>SmokingCessation (0.00524168973788619)\n",
            "MedicalHealth>DiseasesAndConditions>Injuries (0.005009354557842016)\n",
            "NewsAndPolitics>Weather (0.0037138822954148054)\n",
            "MedicalHealth>DiseasesAndConditions>Cancer (0.0029859361238777637)\n",
            "MedicalHealth>DiseasesAndConditions>ColdAndFlu (0.002857551444321871)\n",
            "MedicalHealth>DiseasesAndConditions>Allergies (0.0025930344127118587)\n",
            "I think New York has some of the higher concentrations right now, but that's going to change as that air moves away from the New York area. But over the course of the next few days, we will see different areas being hit at different times with the highest concentrations. I was going to ask you, more fires start burning, I don't expect the concentrations to go up too much higher.\n",
            "Timestamp: 170950 - 189078\n",
            "NewsAndPolitics>Weather (0.9486951231956482)\n",
            "Home&Garden>IndoorEnvironmentalQuality (0.10672713816165924)\n",
            "NewsAndPolitics>Disasters (0.006324044894427061)\n",
            "MedicalHealth>DiseasesAndConditions>ColdAndFlu (0.0011596411932259798)\n",
            "Automotive>AutoParts (0.00039861301775090396)\n",
            "MedicalHealth>DiseasesAndConditions>LungAndRespiratoryHealth (0.00036314927274361253)\n",
            "Travel>TravelLocations>PolarTravel (0.0003499808663036674)\n",
            "Technology&Computing>Computing>ComputerNetworking (0.00026753023848868906)\n",
            "BusinessAndFinance>Industries>PowerAndEnergyIndustry (0.00023866954143159091)\n",
            "MedicalHealth>DiseasesAndConditions>Cancer (0.00023186916951090097)\n",
            "I was going to ask you and you started to answer this, but how much longer could this last? Or forgive me if I'm asking you to speculate, but what do you think? Well, I think the fires are going to burn for a little bit longer, but the key for us in the US. Is the weather system changing. And so right now, it's kind of the weather systems that are pulling that air into our mid Atlantic and Northeast region.\n",
            "Timestamp: 189164 - 211130\n",
            "NewsAndPolitics>Weather (0.9959147572517395)\n",
            "Travel>TravelLocations>PolarTravel (0.008531438186764717)\n",
            "NewsAndPolitics>Disasters (0.0021189867984503508)\n",
            "Science>Environment (0.0005006841383874416)\n",
            "MedicalHealth>DiseasesAndConditions>ColdAndFlu (0.00027018404216505587)\n",
            "Sports>CollegeSports>CollegeBaseball (0.0001917904883157462)\n",
            "PopCulture>CelebrityScandal (0.00017384241800755262)\n",
            "Sports>OlympicSports>SummerOlympicSports (0.0001641129783820361)\n",
            "MusicAndAudio>AdultContemporaryMusic>UrbanACMusic (0.0001541939127491787)\n",
            "BusinessAndFinance>Economy>FinancialCrisis (0.00014796115283388644)\n",
            "As those weather systems change and shift, we'll see that smoke going elsewhere and not impact us in this region as much. And so I think that's going to be the defining factor. And I think the next couple of days we're going to see a shift in that weather pattern and start to push the smoke away from where we are. And finally, with the impacts of climate change, we are seeing more wildfires.\n",
            "Timestamp: 211210 - 232354\n",
            "NewsAndPolitics>Weather (0.9943385720252991)\n",
            "Travel>TravelLocations>PolarTravel (0.0038798111490905285)\n",
            "NewsAndPolitics>Disasters (0.0031615232583135366)\n",
            "Home&Garden>IndoorEnvironmentalQuality (0.0019596731290221214)\n",
            "Science>Environment (0.001271517132408917)\n",
            "PopCulture>CelebrityScandal (0.0003260454395785928)\n",
            "BusinessAndFinance>Industries>PowerAndEnergyIndustry (0.00028069602558389306)\n",
            "Technology&Computing>Computing (0.00025750481290742755)\n",
            "Sports>AutoRacing>MotorcycleSports (0.0001956245250767097)\n",
            "Sports>OlympicSports>SummerOlympicSports (0.00019082953804172575)\n",
            "Will we be seeing more of these kinds of wide ranging air quality consequences or circumstances? I mean, that is one of the predictions for climate change. Looking into the future, the fire season is starting earlier and lasting longer and we're seeing more frequent fires. So, yeah, this is probably something that we'll be seeing more frequently. This tends to be much more of an issue in the Western US. So the Eastern US getting hit right now is a little bit new.\n",
            "Timestamp: 232482 - 261760\n",
            "NewsAndPolitics>Weather (0.9924249649047852)\n",
            "Home&Garden>IndoorEnvironmentalQuality (0.2017378807067871)\n",
            "Travel>TravelLocations>PolarTravel (0.058043234050273895)\n",
            "NewsAndPolitics>Disasters (0.021091533824801445)\n",
            "Science>Environment (0.0047386400401592255)\n",
            "MedicalHealth>DiseasesAndConditions>LungAndRespiratoryHealth (0.0011692640837281942)\n",
            "BusinessAndFinance>Industries>PowerAndEnergyIndustry (0.001010598731227219)\n",
            "MedicalHealth>DiseasesAndConditions>ColdAndFlu (0.0009880446596071124)\n",
            "Food&Drink>Cooking (0.0007442260975949466)\n",
            "BusinessAndFinance>Economy>GasolinePrices (0.0005651501705870032)\n",
            "But yeah, I think with climate change moving forward, this is something that is going to happen more frequently. That's Peter DiCarlo, associate professor in the Department of Environmental Health and Engineering at Johns Hopkins University. Sergeant Carlo, thanks so much for joining us and sharing this expertise with us. Thank you for having me.\n",
            "Timestamp: 262130 - 280340\n",
            "Science>Environment (0.9274448752403259)\n",
            "BusinessAndFinance>Industries>EnvironmentalServicesIndustry (0.8549680709838867)\n",
            "BusinessAndFinance>Business>GreenSolutions (0.48169147968292236)\n",
            "NewsAndPolitics>Weather (0.16800814867019653)\n",
            "Home&Garden>IndoorEnvironmentalQuality (0.057656921446323395)\n",
            "NewsAndPolitics>Disasters (0.0433778241276741)\n",
            "BusinessAndFinance>Industries>PowerAndEnergyIndustry (0.005647365469485521)\n",
            "Travel>TravelLocations>PolarTravel (0.003588640596717596)\n",
            "EventsAndAttractions>Parks&Nature (0.0007050788844935596)\n",
            "BusinessAndFinance>Industries>Agriculture (0.0005596004775725305)\n",
            "Audio is 100.0% relevant to NewsAndPolitics>Weather\n",
            "Audio is 93.78021359443665% relevant to Home&Garden>IndoorEnvironmentalQuality\n",
            "Audio is 16.47280752658844% relevant to Science>Environment\n",
            "Audio is 15.038593113422394% relevant to BusinessAndFinance>Industries>EnvironmentalServicesIndustry\n",
            "Audio is 9.496521204710007% relevant to MedicalHealth>DiseasesAndConditions>LungAndRespiratoryHealth\n",
            "Audio is 8.543621748685837% relevant to BusinessAndFinance>Business>GreenSolutions\n",
            "Audio is 4.069525375962257% relevant to NewsAndPolitics>Disasters\n",
            "Audio is 1.5105249360203743% relevant to Travel>TravelLocations>PolarTravel\n",
            "Audio is 0.9281125850975513% relevant to HealthyLiving\n",
            "Audio is 0.21985946223139763% relevant to MedicalHealth>DiseasesAndConditions>ColdAndFlu\n",
            "Audio is 0.21174713037908077% relevant to MedicalHealth>DiseasesAndConditions>HeartAndCardiovascularDiseases\n",
            "Audio is 0.15072576934471726% relevant to BusinessAndFinance>Industries>PowerAndEnergyIndustry\n",
            "Audio is 0.13470638077706099% relevant to MedicalHealth>DiseasesAndConditions>Injuries\n",
            "Audio is 0.12126534711569548% relevant to HealthyLiving>Wellness>SmokingCessation\n",
            "Audio is 0.10913797887042165% relevant to MedicalHealth>DiseasesAndConditions>Cancer\n",
            "Audio is 0.09669250575825572% relevant to MedicalHealth>DiseasesAndConditions>Allergies\n",
            "Audio is 0.07744738250039518% relevant to MedicalHealth>DiseasesAndConditions>MentalHealth\n",
            "Audio is 0.06103343330323696% relevant to Style&Fashion>PersonalCare>DeodorantAndAntiperspirant\n",
            "Audio is 0.057054858189076185% relevant to Technology&Computing>Computing>ComputerNetworking\n",
            "Audio is 0.0507656077388674% relevant to Automotive>AutoParts\n"
          ]
        }
      ]
    },
    {
      "cell_type": "markdown",
      "source": [
        "*Part B*\n"
      ],
      "metadata": {
        "id": "MW3FoeEcoWZG"
      }
    },
    {
      "cell_type": "code",
      "source": [
        "from transformers import GPT2LMHeadModel, GPT2Tokenizer\n",
        "\n",
        "# Load pre-trained model and tokenizer\n",
        "model_name = 'gpt2'\n",
        "model = GPT2LMHeadModel.from_pretrained(model_name)\n",
        "tokenizer = GPT2Tokenizer.from_pretrained(model_name)\n",
        "\n",
        "# Define your input text for generation\n",
        "input_text = \"Describe Harry Potter's story.\"\n",
        "\n",
        "# Tokenize the input text\n",
        "input_ids = tokenizer.encode(input_text, return_tensors='pt')\n",
        "\n",
        "# Generate text using GPT-2\n",
        "output = model.generate(\n",
        "    input_ids,\n",
        "    max_length=200,  # Adjust the length of the generated text as needed\n",
        "    num_return_sequences=1,\n",
        "    temperature=0.9,  # Adjust temperature for diversity (higher values increase diversity)\n",
        "    repetition_penalty=2.0,  # Set a penalty to discourage repetitive text\n",
        "    top_k=50,\n",
        "    top_p=0.95,\n",
        "    early_stopping=True\n",
        ")\n",
        "\n",
        "# Decode the generated text\n",
        "generated_text = tokenizer.decode(output[0], skip_special_tokens=True)\n",
        "print(\"Generated Text:\", generated_text)\n"
      ],
      "metadata": {
        "colab": {
          "base_uri": "https://localhost:8080/"
        },
        "id": "Ii1nznqyiGh-",
        "outputId": "c3ffd780-b370-44dd-e8cd-412a510b7f83"
      },
      "execution_count": null,
      "outputs": [
        {
          "output_type": "stream",
          "name": "stderr",
          "text": [
            "/usr/local/lib/python3.10/dist-packages/transformers/generation/configuration_utils.py:381: UserWarning: `do_sample` is set to `False`. However, `temperature` is set to `0.9` -- this flag is only used in sample-based generation modes. You should set `do_sample=True` or unset `temperature`.\n",
            "  warnings.warn(\n",
            "The attention mask and the pad token id were not set. As a consequence, you may observe unexpected behavior. Please pass your input's `attention_mask` to obtain reliable results.\n",
            "Setting `pad_token_id` to `eos_token_id`:50256 for open-end generation.\n"
          ]
        },
        {
          "output_type": "stream",
          "name": "stdout",
          "text": [
            "Generated Text: Describe Harry Potter's story.\n",
            "I've been reading the book for a while now and I'm really enjoying it, but there are some things that have changed since then: The first time you see Hermione in her early twenties is when she was just sixteen years old; this year we're seeing more of them than ever before (and they all look like their parents); Ginny has become an adult again after being married to Ron forever ago – which means he can't be around anymore because his mother died suddenly at seventeen-years' age! And finally…the last few books were written by people who had never read any other series or novel until recently so maybe these changes aren´t as big deal? It seems pretty obvious why Rowling would want us not only new readers with no previous experience writing about anything else besides magic -but also those without much knowledge on how magical stuff works...\n",
            "\n",
            " So what do YOU think will happen next?\n"
          ]
        }
      ]
    },
    {
      "cell_type": "markdown",
      "source": [
        "Model Loading:\n",
        "\n",
        "The code imports the necessary classes from the transformers library to work with GPT-2: GPT2LMHeadModel (for the model) and GPT2Tokenizer (for tokenizing text).\n",
        "It loads a pre-trained GPT-2 model ('gpt2') along with its tokenizer.\n",
        "Text Generation Process:\n",
        "\n",
        "Input Text Prompt: You provide an input text prompt that serves as the starting point for the model to generate text.\n",
        "<br>Tokenization: The input text is tokenized by breaking it down into smaller units called tokens, which the model understands. The tokenizer converts the text into token IDs that the model can process.\n",
        "<br>Text Generation: The GPT-2 model takes the tokenized input and generates new text based on the provided prompt. It predicts the most likely sequence of tokens to continue the input text.\n",
        "<br>Parameters: You can adjust various parameters such as max_length, temperature, repetition_penalty, top_k, and top_p to influence the generated text's length, diversity, and repetitiveness.\n",
        "<br>Decoding: The generated token IDs are decoded back into human-readable text by the tokenizer to obtain the final generated text.\n",
        "Output Display:\n",
        "\n",
        "The generated text is displayed or stored for further processing or analysis."
      ],
      "metadata": {
        "id": "0Y11ExEOpEr3"
      }
    },
    {
      "cell_type": "markdown",
      "source": [
        "*Part C. Compare and provide a summary of your experience.*"
      ],
      "metadata": {
        "id": "F2kH_EXHpW_G"
      }
    },
    {
      "cell_type": "markdown",
      "source": [
        "The first part uses the AssemblyAI Python library to transcribe audio content and extract information related to IAB (Interactive Advertising Bureau) categories. It utilizes an API key to access the AssemblyAI service, transcribes an audio file from a given URL, and retrieves parts of the transcript tagged with topics (IAB categories) along with their timestamps and relevance scores. Additionally, it generates a summary of all topics identified in the transcript along with their relevance percentages.\n",
        "\n",
        "The second part uses the Hugging Face's transformers library and a pre-trained GPT-2 language model to generate text based on a specific input prompt. It loads the GPT-2 model and tokenizer, defines an input text prompt (\"Describe Harry Potter's story\"), tokenizes the input text, and generates text using the GPT-2 model. The generated text aims to describe Harry Potter's story based on the learned patterns within the model.\n",
        "\n",
        "In summary, the first part deals with audio transcription, categorization, and summarization using the AssemblyAI service, while the second part involves text generation using a pre-trained GPT-2 model for a specific prompt."
      ],
      "metadata": {
        "id": "oD5KpfML95eX"
      }
    }
  ]
}