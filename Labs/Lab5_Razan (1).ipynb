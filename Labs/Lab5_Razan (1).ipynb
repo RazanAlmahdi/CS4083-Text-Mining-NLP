{
  "nbformat": 4,
  "nbformat_minor": 0,
  "metadata": {
    "colab": {
      "provenance": []
    },
    "kernelspec": {
      "name": "python3",
      "display_name": "Python 3"
    },
    "language_info": {
      "name": "python"
    }
  },
  "cells": [
    {
      "cell_type": "markdown",
      "source": [
        "#CS4083 Lab 5\n",
        "\n",
        "**Razan Almahdi || S20106649**\n",
        "\n",
        "This code uses Speech Recognition library to detect and analyze the voice from an audio file (FLAC format).\n",
        "\n",
        "The audio chosen is from a video game, featuring one of the character's voice lines. The library successfully detects the speech of the character and prints it.\n"
      ],
      "metadata": {
        "id": "fmWcQcyfF1qF"
      }
    },
    {
      "cell_type": "code",
      "source": [
        "!pip install SpeechRecognition"
      ],
      "metadata": {
        "id": "3P5vPwdVFz88",
        "colab": {
          "base_uri": "https://localhost:8080/"
        },
        "outputId": "1e5107c2-3595-4a35-9cab-8b7b68fd182d"
      },
      "execution_count": 1,
      "outputs": [
        {
          "output_type": "stream",
          "name": "stdout",
          "text": [
            "Collecting SpeechRecognition\n",
            "  Downloading SpeechRecognition-3.10.0-py2.py3-none-any.whl (32.8 MB)\n",
            "\u001b[2K     \u001b[90m━━━━━━━━━━━━━━━━━━━━━━━━━━━━━━━━━━━━━━━━\u001b[0m \u001b[32m32.8/32.8 MB\u001b[0m \u001b[31m43.0 MB/s\u001b[0m eta \u001b[36m0:00:00\u001b[0m\n",
            "\u001b[?25hRequirement already satisfied: requests>=2.26.0 in /usr/local/lib/python3.10/dist-packages (from SpeechRecognition) (2.31.0)\n",
            "Requirement already satisfied: charset-normalizer<4,>=2 in /usr/local/lib/python3.10/dist-packages (from requests>=2.26.0->SpeechRecognition) (3.3.2)\n",
            "Requirement already satisfied: idna<4,>=2.5 in /usr/local/lib/python3.10/dist-packages (from requests>=2.26.0->SpeechRecognition) (3.4)\n",
            "Requirement already satisfied: urllib3<3,>=1.21.1 in /usr/local/lib/python3.10/dist-packages (from requests>=2.26.0->SpeechRecognition) (2.0.7)\n",
            "Requirement already satisfied: certifi>=2017.4.17 in /usr/local/lib/python3.10/dist-packages (from requests>=2.26.0->SpeechRecognition) (2023.7.22)\n",
            "Installing collected packages: SpeechRecognition\n",
            "Successfully installed SpeechRecognition-3.10.0\n"
          ]
        }
      ]
    },
    {
      "cell_type": "code",
      "execution_count": 2,
      "metadata": {
        "id": "5CbmU3P3Fwte",
        "colab": {
          "base_uri": "https://localhost:8080/"
        },
        "outputId": "ecba643f-8e52-4390-a40a-aa585cf6b121"
      },
      "outputs": [
        {
          "output_type": "stream",
          "name": "stdout",
          "text": [
            "Recognized Text:\n",
            "ah yes Cassiopeia I admire your commitment to Metaphor am I just seek revenge for my poor departed arm if anything goes you did me a favor do they know who\n"
          ]
        }
      ],
      "source": [
        "import speech_recognition as sr\n",
        "\n",
        "# Create a recognizer instance\n",
        "recognizer = sr.Recognizer()\n",
        "\n",
        "# Specify the path to the audio file\n",
        "audio_file_path = 'Swain.flac'\n",
        "\n",
        "# Load the audio file\n",
        "with sr.AudioFile(audio_file_path) as source:\n",
        "    # Read the entire audio file\n",
        "    audio = recognizer.record(source)\n",
        "\n",
        "    try:\n",
        "        # Perform speech recognition\n",
        "        text = recognizer.recognize_google(audio)\n",
        "        print(\"Recognized Text:\")\n",
        "        print(text)\n",
        "    except sr.UnknownValueError:\n",
        "        print(\"Speech recognition could not understand audio\")\n",
        "    except sr.RequestError as e:\n",
        "        print(f\"Could not request results from Google Speech Recognition service; {e}\")"
      ]
    }
  ]
}