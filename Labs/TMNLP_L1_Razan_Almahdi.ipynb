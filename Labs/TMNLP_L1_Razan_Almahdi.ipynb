{
  "nbformat": 4,
  "nbformat_minor": 0,
  "metadata": {
    "colab": {
      "provenance": []
    },
    "kernelspec": {
      "name": "python3",
      "display_name": "Python 3"
    },
    "language_info": {
      "name": "python"
    }
  },
  "cells": [
    {
      "cell_type": "markdown",
      "source": [
        "This week is about getting started with powerful tools that will underlie many of the skills you learn in the course. Much of the effort is in setting up your programming environment: the lab questions will ensure that it is done correctly and help you grow familiar with it.\n",
        "In this course we'll be using the Python programming language, using an innovative environment called Jupyter Notebooks.\n",
        "Your environment is similar to your local workspace. Look at your desk: how do you organize your pens, paper, mouse, monitor? Or maybe you have a barebones workspace, working at a coffee shop or kitchen table with only a cup of coffee. In the same way, you can have many different environments for how you work with Python: working on a command line, or running scripts. Jupyter Notebooks is an environment that gives you an interactive, browser based version of Python. It allows you to play with code in a way that gives you immediate feedback, and allows you to break, tinker, and retry."
      ],
      "metadata": {
        "id": "ok5VQes1SMch"
      }
    },
    {
      "cell_type": "code",
      "execution_count": 58,
      "metadata": {
        "id": "bXM-TKTZR457"
      },
      "outputs": [],
      "source": [
        "text=\"This week is about getting started with powerful tools that will underlie many of the skills you learn in the course. Much of the effort is in setting up your programming environment: the lab questions will ensure that it is done correctly and help you grow familiar with it. In this course we'll be using the Python programming language, using an innovative environment called Jupyter Notebooks.Your environment is similar to your local workspace. Look at your desk: how do you organize your pens, paper, mouse, monitor? Or maybe you have a barebones workspace, working at a coffee shop or kitchen table with only a cup of coffee. In the same way, you can have many different environments for how you work with Python: working on a command line, or running scripts. Jupyter Notebooks is an environment that gives you an interactive, browser based version of Python. It allows you to play with code in a way that gives you immediate feedback, and allows you to break, tinker, and retry.\""
      ]
    },
    {
      "cell_type": "code",
      "source": [
        "text.split()"
      ],
      "metadata": {
        "id": "FJKLxs7tSLPI",
        "colab": {
          "base_uri": "https://localhost:8080/"
        },
        "outputId": "73f9db6d-bc29-4165-a06b-ccbd64874f87"
      },
      "execution_count": null,
      "outputs": [
        {
          "output_type": "execute_result",
          "data": {
            "text/plain": [
              "['This',\n",
              " 'week',\n",
              " 'is',\n",
              " 'about',\n",
              " 'getting',\n",
              " 'started',\n",
              " 'with',\n",
              " 'powerful',\n",
              " 'tools',\n",
              " 'that',\n",
              " 'will',\n",
              " 'underlie',\n",
              " 'many',\n",
              " 'of',\n",
              " 'the',\n",
              " 'skills',\n",
              " 'you',\n",
              " 'learn',\n",
              " 'in',\n",
              " 'the',\n",
              " 'course.',\n",
              " 'Much',\n",
              " 'of',\n",
              " 'the',\n",
              " 'effort',\n",
              " 'is',\n",
              " 'in',\n",
              " 'setting',\n",
              " 'up',\n",
              " 'your',\n",
              " 'programming',\n",
              " 'environment:',\n",
              " 'the',\n",
              " 'lab',\n",
              " 'questions',\n",
              " 'will',\n",
              " 'ensure',\n",
              " 'that',\n",
              " 'it',\n",
              " 'is',\n",
              " 'done',\n",
              " 'correctly',\n",
              " 'and',\n",
              " 'help',\n",
              " 'you',\n",
              " 'grow',\n",
              " 'familiar',\n",
              " 'with',\n",
              " 'it.',\n",
              " 'In',\n",
              " 'this',\n",
              " 'course',\n",
              " \"we'll\",\n",
              " 'be',\n",
              " 'using',\n",
              " 'the',\n",
              " 'Python',\n",
              " 'programming',\n",
              " 'language,',\n",
              " 'using',\n",
              " 'an',\n",
              " 'innovative',\n",
              " 'environment',\n",
              " 'called',\n",
              " 'Jupyter',\n",
              " 'Notebooks.Your',\n",
              " 'environment',\n",
              " 'is',\n",
              " 'similar',\n",
              " 'to',\n",
              " 'your',\n",
              " 'local',\n",
              " 'workspace.',\n",
              " 'Look',\n",
              " 'at',\n",
              " 'your',\n",
              " 'desk:',\n",
              " 'how',\n",
              " 'do',\n",
              " 'you',\n",
              " 'organize',\n",
              " 'your',\n",
              " 'pens,',\n",
              " 'paper,',\n",
              " 'mouse,',\n",
              " 'monitor?',\n",
              " 'Or',\n",
              " 'maybe',\n",
              " 'you',\n",
              " 'have',\n",
              " 'a',\n",
              " 'barebones',\n",
              " 'workspace,',\n",
              " 'working',\n",
              " 'at',\n",
              " 'a',\n",
              " 'coffee',\n",
              " 'shop',\n",
              " 'or',\n",
              " 'kitchen',\n",
              " 'table',\n",
              " 'with',\n",
              " 'only',\n",
              " 'a',\n",
              " 'cup',\n",
              " 'of',\n",
              " 'coffee.',\n",
              " 'In',\n",
              " 'the',\n",
              " 'same',\n",
              " 'way,',\n",
              " 'you',\n",
              " 'can',\n",
              " 'have',\n",
              " 'many',\n",
              " 'different',\n",
              " 'environments',\n",
              " 'for',\n",
              " 'how',\n",
              " 'you',\n",
              " 'work',\n",
              " 'with',\n",
              " 'Python:',\n",
              " 'working',\n",
              " 'on',\n",
              " 'a',\n",
              " 'command',\n",
              " 'line,',\n",
              " 'or',\n",
              " 'running',\n",
              " 'scripts.',\n",
              " 'Jupyter',\n",
              " 'Notebooks',\n",
              " 'is',\n",
              " 'an',\n",
              " 'environment',\n",
              " 'that',\n",
              " 'gives',\n",
              " 'you',\n",
              " 'an',\n",
              " 'interactive,',\n",
              " 'browser',\n",
              " 'based',\n",
              " 'version',\n",
              " 'of',\n",
              " 'Python.',\n",
              " 'It',\n",
              " 'allows',\n",
              " 'you',\n",
              " 'to',\n",
              " 'play',\n",
              " 'with',\n",
              " 'code',\n",
              " 'in',\n",
              " 'a',\n",
              " 'way',\n",
              " 'that',\n",
              " 'gives',\n",
              " 'you',\n",
              " 'immediate',\n",
              " 'feedback,',\n",
              " 'and',\n",
              " 'allows',\n",
              " 'you',\n",
              " 'to',\n",
              " 'break,',\n",
              " 'tinker,',\n",
              " 'and',\n",
              " 'retry.']"
            ]
          },
          "metadata": {},
          "execution_count": 2
        }
      ]
    },
    {
      "cell_type": "code",
      "source": [
        "import nltk\n",
        "nltk.download('punkt')\n",
        "\n",
        "from nltk.tokenize import word_tokenize\n",
        "word_tokenize(text)\n"
      ],
      "metadata": {
        "id": "Xas0d7OFSdTC",
        "colab": {
          "base_uri": "https://localhost:8080/"
        },
        "outputId": "6ecc593c-04c4-4896-bb0e-089ff4e4f7f1"
      },
      "execution_count": 50,
      "outputs": [
        {
          "output_type": "stream",
          "name": "stderr",
          "text": [
            "[nltk_data] Downloading package punkt to /root/nltk_data...\n",
            "[nltk_data]   Package punkt is already up-to-date!\n"
          ]
        },
        {
          "output_type": "execute_result",
          "data": {
            "text/plain": [
              "['This',\n",
              " 'week',\n",
              " 'is',\n",
              " 'about',\n",
              " 'getting',\n",
              " 'started',\n",
              " 'with',\n",
              " 'powerful',\n",
              " 'tools',\n",
              " 'that',\n",
              " 'will',\n",
              " 'underlie',\n",
              " 'many',\n",
              " 'of',\n",
              " 'the',\n",
              " 'skills',\n",
              " 'you',\n",
              " 'learn',\n",
              " 'in',\n",
              " 'the',\n",
              " 'course',\n",
              " '.',\n",
              " 'Much',\n",
              " 'of',\n",
              " 'the',\n",
              " 'effort',\n",
              " 'is',\n",
              " 'in',\n",
              " 'setting',\n",
              " 'up',\n",
              " 'your',\n",
              " 'programming',\n",
              " 'environment',\n",
              " ':',\n",
              " 'the',\n",
              " 'lab',\n",
              " 'questions',\n",
              " 'will',\n",
              " 'ensure',\n",
              " 'that',\n",
              " 'it',\n",
              " 'is',\n",
              " 'done',\n",
              " 'correctly',\n",
              " 'and',\n",
              " 'help',\n",
              " 'you',\n",
              " 'grow',\n",
              " 'familiar',\n",
              " 'with',\n",
              " 'it',\n",
              " '.',\n",
              " 'In',\n",
              " 'this',\n",
              " 'course',\n",
              " 'we',\n",
              " \"'ll\",\n",
              " 'be',\n",
              " 'using',\n",
              " 'the',\n",
              " 'Python',\n",
              " 'programming',\n",
              " 'language',\n",
              " ',',\n",
              " 'using',\n",
              " 'an',\n",
              " 'innovative',\n",
              " 'environment',\n",
              " 'called',\n",
              " 'Jupyter',\n",
              " 'Notebooks.Your',\n",
              " 'environment',\n",
              " 'is',\n",
              " 'similar',\n",
              " 'to',\n",
              " 'your',\n",
              " 'local',\n",
              " 'workspace',\n",
              " '.',\n",
              " 'Look',\n",
              " 'at',\n",
              " 'your',\n",
              " 'desk',\n",
              " ':',\n",
              " 'how',\n",
              " 'do',\n",
              " 'you',\n",
              " 'organize',\n",
              " 'your',\n",
              " 'pens',\n",
              " ',',\n",
              " 'paper',\n",
              " ',',\n",
              " 'mouse',\n",
              " ',',\n",
              " 'monitor',\n",
              " '?',\n",
              " 'Or',\n",
              " 'maybe',\n",
              " 'you',\n",
              " 'have',\n",
              " 'a',\n",
              " 'barebones',\n",
              " 'workspace',\n",
              " ',',\n",
              " 'working',\n",
              " 'at',\n",
              " 'a',\n",
              " 'coffee',\n",
              " 'shop',\n",
              " 'or',\n",
              " 'kitchen',\n",
              " 'table',\n",
              " 'with',\n",
              " 'only',\n",
              " 'a',\n",
              " 'cup',\n",
              " 'of',\n",
              " 'coffee',\n",
              " '.',\n",
              " 'In',\n",
              " 'the',\n",
              " 'same',\n",
              " 'way',\n",
              " ',',\n",
              " 'you',\n",
              " 'can',\n",
              " 'have',\n",
              " 'many',\n",
              " 'different',\n",
              " 'environments',\n",
              " 'for',\n",
              " 'how',\n",
              " 'you',\n",
              " 'work',\n",
              " 'with',\n",
              " 'Python',\n",
              " ':',\n",
              " 'working',\n",
              " 'on',\n",
              " 'a',\n",
              " 'command',\n",
              " 'line',\n",
              " ',',\n",
              " 'or',\n",
              " 'running',\n",
              " 'scripts',\n",
              " '.',\n",
              " 'Jupyter',\n",
              " 'Notebooks',\n",
              " 'is',\n",
              " 'an',\n",
              " 'environment',\n",
              " 'that',\n",
              " 'gives',\n",
              " 'you',\n",
              " 'an',\n",
              " 'interactive',\n",
              " ',',\n",
              " 'browser',\n",
              " 'based',\n",
              " 'version',\n",
              " 'of',\n",
              " 'Python',\n",
              " '.',\n",
              " 'It',\n",
              " 'allows',\n",
              " 'you',\n",
              " 'to',\n",
              " 'play',\n",
              " 'with',\n",
              " 'code',\n",
              " 'in',\n",
              " 'a',\n",
              " 'way',\n",
              " 'that',\n",
              " 'gives',\n",
              " 'you',\n",
              " 'immediate',\n",
              " 'feedback',\n",
              " ',',\n",
              " 'and',\n",
              " 'allows',\n",
              " 'you',\n",
              " 'to',\n",
              " 'break',\n",
              " ',',\n",
              " 'tinker',\n",
              " ',',\n",
              " 'and',\n",
              " 'retry',\n",
              " '.']"
            ]
          },
          "metadata": {},
          "execution_count": 50
        }
      ]
    },
    {
      "cell_type": "code",
      "source": [
        "import nltk\n",
        "nltk.download('punkt')\n",
        "from nltk.tokenize import sent_tokenize, word_tokenize\n",
        "\n",
        "sent_tokenize(text)"
      ],
      "metadata": {
        "colab": {
          "base_uri": "https://localhost:8080/"
        },
        "id": "_dgAhA76TxeF",
        "outputId": "9b27f436-23f5-4b05-8a34-139d4630c2c9"
      },
      "execution_count": 6,
      "outputs": [
        {
          "output_type": "stream",
          "name": "stderr",
          "text": [
            "[nltk_data] Downloading package punkt to /root/nltk_data...\n",
            "[nltk_data]   Package punkt is already up-to-date!\n"
          ]
        },
        {
          "output_type": "execute_result",
          "data": {
            "text/plain": [
              "['This week is about getting started with powerful tools that will underlie many of the skills you learn in the course.',\n",
              " 'Much of the effort is in setting up your programming environment: the lab questions will ensure that it is done correctly and help you grow familiar with it.',\n",
              " \"In this course we'll be using the Python programming language, using an innovative environment called Jupyter Notebooks.Your environment is similar to your local workspace.\",\n",
              " 'Look at your desk: how do you organize your pens, paper, mouse, monitor?',\n",
              " 'Or maybe you have a barebones workspace, working at a coffee shop or kitchen table with only a cup of coffee.',\n",
              " 'In the same way, you can have many different environments for how you work with Python: working on a command line, or running scripts.',\n",
              " 'Jupyter Notebooks is an environment that gives you an interactive, browser based version of Python.',\n",
              " 'It allows you to play with code in a way that gives you immediate feedback, and allows you to break, tinker, and retry.']"
            ]
          },
          "metadata": {},
          "execution_count": 6
        }
      ]
    },
    {
      "cell_type": "code",
      "source": [
        "#STOP WORD REMOVAL\n",
        "import nltk\n",
        "from nltk.corpus import stopwords\n",
        "from nltk.tokenize import word_tokenize\n",
        "\n",
        "nltk.download('stopwords')\n",
        "\n",
        "words = word_tokenize(text)\n",
        "\n",
        "stop_words = set(stopwords.words('english'))\n",
        "\n",
        "filtered_words = [word for word in words if word.lower() not in stop_words]\n",
        "\n",
        "print(filtered_words)\n"
      ],
      "metadata": {
        "colab": {
          "base_uri": "https://localhost:8080/"
        },
        "id": "DOw_SNAe-DBj",
        "outputId": "86e1071d-c72d-4442-af8f-dd0387b89a34"
      },
      "execution_count": 37,
      "outputs": [
        {
          "output_type": "stream",
          "name": "stdout",
          "text": [
            "['week', 'getting', 'started', 'powerful', 'tools', 'underlie', 'many', 'skills', 'learn', 'course', '.', 'Much', 'effort', 'setting', 'programming', 'environment', ':', 'lab', 'questions', 'ensure', 'done', 'correctly', 'help', 'grow', 'familiar', '.', 'course', \"'ll\", 'using', 'Python', 'programming', 'language', ',', 'using', 'innovative', 'environment', 'called', 'Jupyter', 'Notebooks.Your', 'environment', 'similar', 'local', 'workspace', '.', 'Look', 'desk', ':', 'organize', 'pens', ',', 'paper', ',', 'mouse', ',', 'monitor', '?', 'maybe', 'barebones', 'workspace', ',', 'working', 'coffee', 'shop', 'kitchen', 'table', 'cup', 'coffee', '.', 'way', ',', 'many', 'different', 'environments', 'work', 'Python', ':', 'working', 'command', 'line', ',', 'running', 'scripts', '.', 'Jupyter', 'Notebooks', 'environment', 'gives', 'interactive', ',', 'browser', 'based', 'version', 'Python', '.', 'allows', 'play', 'code', 'way', 'gives', 'immediate', 'feedback', ',', 'allows', 'break', ',', 'tinker', ',', 'retry', '.']\n"
          ]
        },
        {
          "output_type": "stream",
          "name": "stderr",
          "text": [
            "[nltk_data] Downloading package stopwords to /root/nltk_data...\n",
            "[nltk_data]   Package stopwords is already up-to-date!\n"
          ]
        }
      ]
    },
    {
      "cell_type": "code",
      "source": [
        "#COREFERENCING\n",
        "\n",
        "import spacy\n",
        "\n",
        "nltk.download('stopwords')\n",
        "\n",
        "# Load the English language model\n",
        "nlp = spacy.load('en_core_web_sm')\n",
        "\n",
        "# Define the custom extension attribute\n",
        "def resolve_coreference(doc):\n",
        "    for cluster in doc._.coref_clusters:\n",
        "        main_mention = cluster.main\n",
        "        for mention in cluster.mentions:\n",
        "            if mention != main_mention:\n",
        "                mention._.coref = main_mention\n",
        "\n",
        "# Add the custom extension attribute to the Doc class\n",
        "spacy.tokens.Doc.set_extension('coref', default=None, force=True)\n",
        "spacy.tokens.Span.set_extension('coref', default=None, force=True)\n",
        "\n",
        "# Register the custom resolver function as a spaCy component\n",
        "@spacy.Language.component('resolve_coreference')\n",
        "def resolve_coreference_component(doc):\n",
        "    resoPlve_coreference(doc)\n",
        "    return doc\n",
        "\n",
        "# rocess the text with spaCy\n",
        "doc = nlp(text)\n",
        "\n",
        "# Perform coreference resolution\n",
        "resolved_text = doc._.coref\n",
        "\n",
        "print(resolved_text)\n"
      ],
      "metadata": {
        "colab": {
          "base_uri": "https://localhost:8080/"
        },
        "id": "M4j2VPk2BDzq",
        "outputId": "be9f6427-b5fe-4b89-914d-b82a9c5e26ae"
      },
      "execution_count": 63,
      "outputs": [
        {
          "output_type": "stream",
          "name": "stderr",
          "text": [
            "[nltk_data] Downloading package stopwords to /root/nltk_data...\n",
            "[nltk_data]   Package stopwords is already up-to-date!\n"
          ]
        },
        {
          "output_type": "stream",
          "name": "stdout",
          "text": [
            "None\n"
          ]
        }
      ]
    },
    {
      "cell_type": "code",
      "source": [
        "#STEMMING\n",
        "\n",
        "from nltk.stem import PorterStemmer\n",
        "\n",
        "# Create an instance of the Porter stemmer\n",
        "stemmer = PorterStemmer()\n",
        "\n",
        "# Tokenize the text into individual words\n",
        "tokens = text.split()\n",
        "\n",
        "# Stem each word in the text\n",
        "stemmed_text = ' '.join(stemmer.stem(token) for token in tokens)\n",
        "\n",
        "print(stemmed_text)\n"
      ],
      "metadata": {
        "colab": {
          "base_uri": "https://localhost:8080/"
        },
        "id": "nAKVbLPJFOPH",
        "outputId": "adb930a3-5fce-4b2c-ab92-4e982ea1f70a"
      },
      "execution_count": 62,
      "outputs": [
        {
          "output_type": "stream",
          "name": "stdout",
          "text": [
            "thi week is about get start with power tool that will underli mani of the skill you learn in the course. much of the effort is in set up your program environment: the lab question will ensur that it is done correctli and help you grow familiar with it. in thi cours we'll be use the python program language, use an innov environ call jupyt notebooks.your environ is similar to your local workspace. look at your desk: how do you organ your pens, paper, mouse, monitor? or mayb you have a barebon workspace, work at a coffe shop or kitchen tabl with onli a cup of coffee. in the same way, you can have mani differ environ for how you work with python: work on a command line, or run scripts. jupyt notebook is an environ that give you an interactive, browser base version of python. it allow you to play with code in a way that give you immedi feedback, and allow you to break, tinker, and retry.\n"
          ]
        }
      ]
    },
    {
      "cell_type": "code",
      "source": [
        "#LEMMATIZATION\n",
        "\n",
        "import spacy\n",
        "\n",
        "# Load the English language model\n",
        "nlp = spacy.load('en_core_web_sm')\n",
        "\n",
        "# Process the text with spaCy\n",
        "doc = nlp(text)\n",
        "\n",
        "# Lemmatize the text\n",
        "lemmatized_text = \" \".join(token.lemma_ for token in doc)\n",
        "\n",
        "print(lemmatized_text)\n"
      ],
      "metadata": {
        "colab": {
          "base_uri": "https://localhost:8080/"
        },
        "id": "vwmC4iU5G61A",
        "outputId": "a7615238-c5c9-4874-bc34-e6c11f1b1272"
      },
      "execution_count": 61,
      "outputs": [
        {
          "output_type": "stream",
          "name": "stdout",
          "text": [
            "this week be about getting start with powerful tool that will underlie many of the skill you learn in the course . much of the effort be in set up your programming environment : the lab question will ensure that it be do correctly and help you grow familiar with it . in this course we will be use the Python programming language , use an innovative environment call Jupyter Notebooks . your environment be similar to your local workspace . look at your desk : how do you organize your pen , paper , mouse , monitor ? or maybe you have a barebone workspace , work at a coffee shop or kitchen table with only a cup of coffee . in the same way , you can have many different environment for how you work with Python : work on a command line , or run script . Jupyter Notebooks be an environment that give you an interactive , browser base version of Python . it allow you to play with code in a way that give you immediate feedback , and allow you to break , tinker , and retry .\n"
          ]
        }
      ]
    },
    {
      "cell_type": "code",
      "source": [
        "#MORPHOLOGY ANALYSIS\n",
        "\n",
        "import nltk\n",
        "from nltk.stem import WordNetLemmatizer\n",
        "\n",
        "# Download the necessary NLTK data (if not already downloaded)\n",
        "nltk.download('punkt')\n",
        "nltk.download('averaged_perceptron_tagger')\n",
        "nltk.download('wordnet')\n",
        "\n",
        "# Create an instance of the WordNet lemmatizer\n",
        "lemmatizer = WordNetLemmatizer()\n",
        "\n",
        "# Tokenize the text into individual words\n",
        "tokens = nltk.word_tokenize(text)\n",
        "\n",
        "# Perform part-of-speech tagging\n",
        "pos_tags = nltk.pos_tag(tokens)\n",
        "\n",
        "# Analyze the morphology of each word in the text\n",
        "morphology_analysis = []\n",
        "for word, pos in pos_tags:\n",
        "    lemma = lemmatizer.lemmatize(word)\n",
        "    morphology_analysis.append((word, pos, lemma))\n",
        "\n",
        "print(morphology_analysis)\n",
        "\n"
      ],
      "metadata": {
        "colab": {
          "base_uri": "https://localhost:8080/"
        },
        "id": "nI9gkNjAJdtN",
        "outputId": "e4c72e15-3657-44b3-d8e9-6d7ff6721016"
      },
      "execution_count": 64,
      "outputs": [
        {
          "output_type": "stream",
          "name": "stdout",
          "text": [
            "[('This', 'DT', 'This'), ('week', 'NN', 'week'), ('is', 'VBZ', 'is'), ('about', 'IN', 'about'), ('getting', 'VBG', 'getting'), ('started', 'VBN', 'started'), ('with', 'IN', 'with'), ('powerful', 'JJ', 'powerful'), ('tools', 'NNS', 'tool'), ('that', 'WDT', 'that'), ('will', 'MD', 'will'), ('underlie', 'VB', 'underlie'), ('many', 'JJ', 'many'), ('of', 'IN', 'of'), ('the', 'DT', 'the'), ('skills', 'NNS', 'skill'), ('you', 'PRP', 'you'), ('learn', 'VBP', 'learn'), ('in', 'IN', 'in'), ('the', 'DT', 'the'), ('course', 'NN', 'course'), ('.', '.', '.'), ('Much', 'JJ', 'Much'), ('of', 'IN', 'of'), ('the', 'DT', 'the'), ('effort', 'NN', 'effort'), ('is', 'VBZ', 'is'), ('in', 'IN', 'in'), ('setting', 'VBG', 'setting'), ('up', 'RP', 'up'), ('your', 'PRP$', 'your'), ('programming', 'VBG', 'programming'), ('environment', 'NN', 'environment'), (':', ':', ':'), ('the', 'DT', 'the'), ('lab', 'NN', 'lab'), ('questions', 'NNS', 'question'), ('will', 'MD', 'will'), ('ensure', 'VB', 'ensure'), ('that', 'IN', 'that'), ('it', 'PRP', 'it'), ('is', 'VBZ', 'is'), ('done', 'VBN', 'done'), ('correctly', 'RB', 'correctly'), ('and', 'CC', 'and'), ('help', 'VB', 'help'), ('you', 'PRP', 'you'), ('grow', 'VB', 'grow'), ('familiar', 'JJ', 'familiar'), ('with', 'IN', 'with'), ('it', 'PRP', 'it'), ('.', '.', '.'), ('In', 'IN', 'In'), ('this', 'DT', 'this'), ('course', 'NN', 'course'), ('we', 'PRP', 'we'), (\"'ll\", 'MD', \"'ll\"), ('be', 'VB', 'be'), ('using', 'VBG', 'using'), ('the', 'DT', 'the'), ('Python', 'NNP', 'Python'), ('programming', 'NN', 'programming'), ('language', 'NN', 'language'), (',', ',', ','), ('using', 'VBG', 'using'), ('an', 'DT', 'an'), ('innovative', 'JJ', 'innovative'), ('environment', 'NN', 'environment'), ('called', 'VBN', 'called'), ('Jupyter', 'NNP', 'Jupyter'), ('Notebooks.Your', 'NNP', 'Notebooks.Your'), ('environment', 'NN', 'environment'), ('is', 'VBZ', 'is'), ('similar', 'JJ', 'similar'), ('to', 'TO', 'to'), ('your', 'PRP$', 'your'), ('local', 'JJ', 'local'), ('workspace', 'NN', 'workspace'), ('.', '.', '.'), ('Look', 'VB', 'Look'), ('at', 'IN', 'at'), ('your', 'PRP$', 'your'), ('desk', 'NN', 'desk'), (':', ':', ':'), ('how', 'WRB', 'how'), ('do', 'VBP', 'do'), ('you', 'PRP', 'you'), ('organize', 'VB', 'organize'), ('your', 'PRP$', 'your'), ('pens', 'NNS', 'pen'), (',', ',', ','), ('paper', 'NN', 'paper'), (',', ',', ','), ('mouse', 'NN', 'mouse'), (',', ',', ','), ('monitor', 'NN', 'monitor'), ('?', '.', '?'), ('Or', 'CC', 'Or'), ('maybe', 'RB', 'maybe'), ('you', 'PRP', 'you'), ('have', 'VBP', 'have'), ('a', 'DT', 'a'), ('barebones', 'NNS', 'barebones'), ('workspace', 'NN', 'workspace'), (',', ',', ','), ('working', 'VBG', 'working'), ('at', 'IN', 'at'), ('a', 'DT', 'a'), ('coffee', 'NN', 'coffee'), ('shop', 'NN', 'shop'), ('or', 'CC', 'or'), ('kitchen', 'VB', 'kitchen'), ('table', 'NN', 'table'), ('with', 'IN', 'with'), ('only', 'RB', 'only'), ('a', 'DT', 'a'), ('cup', 'NN', 'cup'), ('of', 'IN', 'of'), ('coffee', 'NN', 'coffee'), ('.', '.', '.'), ('In', 'IN', 'In'), ('the', 'DT', 'the'), ('same', 'JJ', 'same'), ('way', 'NN', 'way'), (',', ',', ','), ('you', 'PRP', 'you'), ('can', 'MD', 'can'), ('have', 'VB', 'have'), ('many', 'JJ', 'many'), ('different', 'JJ', 'different'), ('environments', 'NNS', 'environment'), ('for', 'IN', 'for'), ('how', 'WRB', 'how'), ('you', 'PRP', 'you'), ('work', 'VBP', 'work'), ('with', 'IN', 'with'), ('Python', 'NNP', 'Python'), (':', ':', ':'), ('working', 'VBG', 'working'), ('on', 'IN', 'on'), ('a', 'DT', 'a'), ('command', 'NN', 'command'), ('line', 'NN', 'line'), (',', ',', ','), ('or', 'CC', 'or'), ('running', 'VBG', 'running'), ('scripts', 'NNS', 'script'), ('.', '.', '.'), ('Jupyter', 'NNP', 'Jupyter'), ('Notebooks', 'NNP', 'Notebooks'), ('is', 'VBZ', 'is'), ('an', 'DT', 'an'), ('environment', 'NN', 'environment'), ('that', 'WDT', 'that'), ('gives', 'VBZ', 'give'), ('you', 'PRP', 'you'), ('an', 'DT', 'an'), ('interactive', 'JJ', 'interactive'), (',', ',', ','), ('browser', 'RB', 'browser'), ('based', 'VBN', 'based'), ('version', 'NN', 'version'), ('of', 'IN', 'of'), ('Python', 'NNP', 'Python'), ('.', '.', '.'), ('It', 'PRP', 'It'), ('allows', 'VBZ', 'allows'), ('you', 'PRP', 'you'), ('to', 'TO', 'to'), ('play', 'VB', 'play'), ('with', 'IN', 'with'), ('code', 'NN', 'code'), ('in', 'IN', 'in'), ('a', 'DT', 'a'), ('way', 'NN', 'way'), ('that', 'WDT', 'that'), ('gives', 'VBZ', 'give'), ('you', 'PRP', 'you'), ('immediate', 'JJ', 'immediate'), ('feedback', 'NN', 'feedback'), (',', ',', ','), ('and', 'CC', 'and'), ('allows', 'VBZ', 'allows'), ('you', 'PRP', 'you'), ('to', 'TO', 'to'), ('break', 'VB', 'break'), (',', ',', ','), ('tinker', 'NN', 'tinker'), (',', ',', ','), ('and', 'CC', 'and'), ('retry', 'NN', 'retry'), ('.', '.', '.')]\n"
          ]
        },
        {
          "output_type": "stream",
          "name": "stderr",
          "text": [
            "[nltk_data] Downloading package punkt to /root/nltk_data...\n",
            "[nltk_data]   Package punkt is already up-to-date!\n",
            "[nltk_data] Downloading package averaged_perceptron_tagger to\n",
            "[nltk_data]     /root/nltk_data...\n",
            "[nltk_data]   Package averaged_perceptron_tagger is already up-to-\n",
            "[nltk_data]       date!\n",
            "[nltk_data] Downloading package wordnet to /root/nltk_data...\n",
            "[nltk_data]   Package wordnet is already up-to-date!\n"
          ]
        }
      ]
    }
  ]
}